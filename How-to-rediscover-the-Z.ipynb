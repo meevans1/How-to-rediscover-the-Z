{
 "cells": [
  {
   "cell_type": "markdown",
   "metadata": {},
   "source": [
    "<CENTER><img src=\"images/ATLASOD.gif\" style=\"width:50%\"></CENTER>"
   ]
  },
  {
   "cell_type": "markdown",
   "metadata": {},
   "source": [
    "# How to rediscover the Z boson yourself!\n",
    "This notebook uses ATLAS Open Data http://opendata.atlas.cern to show you the steps to rediscover the Z boson yourself!\n",
    "\n",
    "The idea is that you run this notebook as-is, then go through the tasks at the bottom to improve your study of the Z boson.\n",
    "\n",
    "The datasets used in this notebook have already been filtered to include exactly 2 leptons per event, so that processing is quicker.\n",
    "\n",
    "Feynman diagram pictures are borrowed from our friends at https://www.particlezoo.net"
   ]
  },
  {
   "cell_type": "markdown",
   "metadata": {},
   "source": [
    "<CENTER><img src=\"images/Zee_feynman.png\" style=\"width:50%\"></CENTER>"
   ]
  },
  {
   "cell_type": "markdown",
   "metadata": {},
   "source": [
    "## First time setup on your computer (no need on a web browser)\n",
    "This first cell only needs to be run the first time you open this notebook on your computer. \n",
    "\n",
    "If you close Jupyter and re-open on the same computer, you won't need to run this first cell again.\n",
    "\n",
    "If you open on binder, you don't need to run this cell."
   ]
  },
  {
   "cell_type": "code",
   "execution_count": null,
   "metadata": {
    "scrolled": true
   },
   "outputs": [],
   "source": [
    "import sys\n",
    "!{sys.executable} -m pip install --upgrade --user pip\n",
    "!{sys.executable} -m pip install -U numpy pandas uproot matplotlib --user"
   ]
  },
  {
   "cell_type": "markdown",
   "metadata": {},
   "source": [
    "## To setup everytime\n",
    "Cell -> Run All Below\n",
    "\n",
    "to be done every time you re-open this notebook"
   ]
  },
  {
   "cell_type": "code",
   "execution_count": 1,
   "metadata": {},
   "outputs": [],
   "source": [
    "import uproot # for reading .root files\n",
    "import pandas as pd # to store data as dataframe\n",
    "import time # to measure time to analyse\n",
    "import math # for mathematical functions such as square root\n",
    "import numpy as np # # for numerical calculations such as histogramming\n",
    "import matplotlib.pyplot as plt # for plotting\n",
    "from matplotlib.ticker import MultipleLocator # for axis ticks"
   ]
  },
  {
   "cell_type": "markdown",
   "metadata": {},
   "source": [
    "<a id='fraction'></a>"
   ]
  },
  {
   "cell_type": "markdown",
   "metadata": {},
   "source": [
    "General definitions for fraction of data used, where to access the input files."
   ]
  },
  {
   "cell_type": "code",
   "execution_count": 2,
   "metadata": {},
   "outputs": [],
   "source": [
    "fraction = 0.01 # reduce this is you want the code to run quicker\n",
    "                                                                                                                                  \n",
    "tuple_path = \"Input/Data/exactly2lep.\" # local\n",
    "#tuple_path = \"http://opendata.atlas.cern/release/samples/Data/\" # web address"
   ]
  },
  {
   "cell_type": "markdown",
   "metadata": {},
   "source": [
    "<a id='samples'></a>"
   ]
  },
  {
   "cell_type": "markdown",
   "metadata": {},
   "source": [
    "samples to process"
   ]
  },
  {
   "cell_type": "code",
   "execution_count": 3,
   "metadata": {},
   "outputs": [],
   "source": [
    "samples_list = ['DataEgamma'] # di-electron pairs only\n",
    "#samples_list = ['DataEgamma','DataMuons'] # also available if you want to add data for di-muon pairs"
   ]
  },
  {
   "cell_type": "markdown",
   "metadata": {},
   "source": [
    "Define function to get data from files"
   ]
  },
  {
   "cell_type": "code",
   "execution_count": 4,
   "metadata": {},
   "outputs": [],
   "source": [
    "def get_data_from_files():\n",
    "    \n",
    "    frames = [] # define empty list to hold data\n",
    "    for val in samples_list: # loop over each file\n",
    "        fileString = tuple_path+val+\".root\" # file name to open\n",
    "        temp = read_file(fileString,val) # call the function read_file defined below\n",
    "        frames.append(temp) # append dataframe returned from read_file to list of dataframes\n",
    "        data_frame = pd.concat(frames) # concatenate list of dataframes together into one dataframe\n",
    "    \n",
    "    return data_frame # return single dataframe"
   ]
  },
  {
   "cell_type": "markdown",
   "metadata": {},
   "source": [
    "Define function to calculate diphoton invariant mass"
   ]
  },
  {
   "cell_type": "code",
   "execution_count": 5,
   "metadata": {},
   "outputs": [],
   "source": [
    "def calc_mll(lep_pt,lep_eta,lep_phi):\n",
    "    # first lepton is [0], 2nd lepton is [1] etc\n",
    "    \n",
    "    px_0 = lep_pt[0]*math.cos(lep_phi[0]) # x-component of lepton[0] momentum\n",
    "    py_0 = lep_pt[0]*math.sin(lep_phi[0]) # y-component of lepton[0] momentum\n",
    "    pz_0 = lep_pt[0]*math.sinh(lep_eta[0]) # z-component of lepton[0] momentum\n",
    "    px_1 = lep_pt[1]*math.cos(lep_phi[1]) # x-component of lepton[1] momentum\n",
    "    py_1 = lep_pt[1]*math.sin(lep_phi[1]) # y-component of lepton[1] momentum\n",
    "    pz_1 = lep_pt[1]*math.sinh(lep_eta[1]) # z-component of lepton[1] momentum\n",
    "    sumpx = px_0 + px_1 # x-component of di-lepton momentum\n",
    "    sumpy = py_0 + py_1 # y-component of di-lepton momentum\n",
    "    sumpz = pz_0 + pz_1 # z-component of di-lepton momentum\n",
    "    sump = math.sqrt(sumpx**2 + sumpy**2 + sumpz**2) # magnitude of di-lepton momentum\n",
    "    \n",
    "    # we can use momentum components to calculate energy since p >> m\n",
    "    E_0 = math.sqrt(px_0**2 + py_0**2 + pz_0**2) # lepton[0] energy\n",
    "    E_1 = math.sqrt(px_1**2 + py_1**2 + pz_1**2) # lepton[1] energy\n",
    "    sumE = E_0 + E_1 # di-lepton energy\n",
    "    \n",
    "    return math.sqrt(sumE**2 - sump**2)/1000 #/1000 to go from MeV to GeV"
   ]
  },
  {
   "cell_type": "markdown",
   "metadata": {},
   "source": [
    "<a id='changing_cut'></a>"
   ]
  },
  {
   "cell_type": "markdown",
   "metadata": {},
   "source": [
    "## Changing a cut\n",
    "If you change a cut: Cell -> Run All Below\n",
    "\n",
    "If you change a cut here, you also need to uncomment the corresponding cut in the cell below."
   ]
  },
  {
   "cell_type": "code",
   "execution_count": 6,
   "metadata": {},
   "outputs": [],
   "source": [
    "# cut on number of leptons\n",
    "def cut_n_lep(lep_n):\n",
    "    # want to keep events where there are 2 leptons\n",
    "    return lep_n == 2\n",
    "\n",
    "# cut on lepton charge\n",
    "def cut_lep_charge(lep_charge):\n",
    "    # want to keep events when sum of lepton charges is equal 0\n",
    "    # first lepton is [0], 2nd lepton is [1]\n",
    "    return # which events to return is for you to fill in\n",
    "\n",
    "# cut on lepton type\n",
    "def cut_lep_type(lep_type):\n",
    "    # want to keep events with either 2 electron types or 2 muon types\n",
    "    return # which events to return is for you to fill in\n",
    "\n",
    "# cut on lepton pt\n",
    "def cut_lep_pt(lep_pt):\n",
    "    # want to keep events where the leptons have lep_pt[] > 25000 MeV \n",
    "    return # which events to return is for you to fill in"
   ]
  },
  {
   "cell_type": "markdown",
   "metadata": {},
   "source": [
    "<a id='applying_cut'></a>"
   ]
  },
  {
   "cell_type": "markdown",
   "metadata": {},
   "source": [
    "## Applying a cut\n",
    "If you add a cut: Cell -> Run All Below\n",
    "\n",
    "If you apply a cut here, it also needs to be defined in the cell above."
   ]
  },
  {
   "cell_type": "code",
   "execution_count": 7,
   "metadata": {},
   "outputs": [],
   "source": [
    "def read_file(path,sample):\n",
    "    start = time.time() # start the clock\n",
    "    print(\"\\tProcessing: \"+sample) # print which sample is being processed\n",
    "    data_all = pd.DataFrame() # define empty pandas DataFrame to hold all data for this sample\n",
    "    tree = uproot.open(path)[\"mini\"] # open the tree called mini\n",
    "    numevents = uproot.numentries(path, \"mini\") # number of events\n",
    "    for data in tree.iterate([\"lep_n\",\"lep_pt\",\"lep_eta\",\"lep_phi\",\n",
    "                              'lep_E',\"lep_charge\",\"lep_type\", \n",
    "                              # add more variables here if you make cuts on them\n",
    "                             ], entrysteps=2500000, # number of events in a batch to process\n",
    "                             outputtype=pd.DataFrame, # choose output type as pandas DataFrame\n",
    "                             entrystop=numevents*fraction): # process up to numevents*fraction\n",
    "\n",
    "        nIn = len(data.index) # number of events in this batch\n",
    "\n",
    "        # cut on number of leptons\n",
    "        data = data[ np.vectorize(cut_n_lep)(data.lep_n) ]\n",
    "\n",
    "        # dataframe contents can be printed at any stage like this\n",
    "        #print(data)\n",
    "\n",
    "        # dataframe column can be printed at any stage like this\n",
    "        #print(data['lep_charge'])\n",
    "\n",
    "        # dataframe columns can be printed at any stage like this\n",
    "        #print(data[['lep_charge','lep_type']])\n",
    "\n",
    "        # cut on lepton charge\n",
    "        #data = data[ np.vectorize(cut_lep_charge)(data.lep_charge) ]\n",
    "\n",
    "        # cut on lepton type\n",
    "        #data = data[ np.vectorize(cut_lep_type)(data.lep_type) ]\n",
    "\n",
    "        # cut on lepton pt\n",
    "        #data = data[ np.vectorize(cut_lep_pt)(data.lep_pt) ]\n",
    "\n",
    "        # calculation of 2-lepton invariant mass\n",
    "        data['mll'] = np.vectorize(calc_mll)(data.lep_pt,data.lep_eta,\n",
    "                                             data.lep_phi)\n",
    "\n",
    "        nOut = len(data.index) # number of events passing cuts in this batch\n",
    "        data_all = data_all.append(data) # append dataframe from this batch to the dataframe for the whole sample\n",
    "        elapsed = time.time() - start # time taken to process\n",
    "        print(\"\\t\\tTime taken: \"+str(elapsed)+\", nIn: \"+str(nIn)+\", nOut: \"+str(nOut)) # events before and after\n",
    "\n",
    "    return data_all # return dataframe containing events passing all cuts"
   ]
  },
  {
   "cell_type": "markdown",
   "metadata": {},
   "source": [
    "This is where the processing happens"
   ]
  },
  {
   "cell_type": "code",
   "execution_count": 8,
   "metadata": {
    "scrolled": false
   },
   "outputs": [
    {
     "name": "stdout",
     "output_type": "stream",
     "text": [
      "\tProcessing: DataEgamma\n",
      "\t\tTime taken: 0.7316741943359375, nIn: 4293, nOut: 4293\n",
      "Time taken: 0.7366559505462646\n"
     ]
    }
   ],
   "source": [
    "start = time.time()\n",
    "data_frame = get_data_from_files()\n",
    "elapsed = time.time() - start\n",
    "print(\"Time taken: \"+str(elapsed))"
   ]
  },
  {
   "cell_type": "markdown",
   "metadata": {},
   "source": [
    "## Make a change to plotting\n",
    "If you only want a make a change in the plot: Cell -> Run All Below"
   ]
  },
  {
   "cell_type": "code",
   "execution_count": 9,
   "metadata": {},
   "outputs": [],
   "source": [
    "def plot_data(data):\n",
    "    \n",
    "    xmin = 0\n",
    "    xmax = 220\n",
    "    step_size = 5\n",
    "    \n",
    "    bins = np.arange(start=xmin, # The interval includes this value\n",
    "                     stop=xmax+step_size, # The interval doesn't include this value\n",
    "                     step=step_size ) # Spacing between values\n",
    "    bin_centres = np.arange(start=xmin+step_size/2, # The interval includes this value\n",
    "                            stop=xmax+step_size/2, # The interval doesn't include this value\n",
    "                            step=step_size ) # Spacing between values\n",
    "\n",
    "    data_mll,_ = np.histogram( data_frame['mll'].values, bins=bins ) # histogram the data\n",
    "    data_mll_errors = np.sqrt( data_mll ) # statistical error on the data\n",
    "\n",
    "    plt.errorbar(x=bin_centres, y=data_mll, yerr=data_mll_errors, \n",
    "                 fmt='ko' ) # plot format\n",
    "\n",
    "    plt.ylabel( 'Events', horizontalalignment='right', y=1 ) # write y-axis label\n",
    "    plt.yscale( 'log' ) # log scale on y-axis\n",
    "\n",
    "    plt.xlabel('Di-lepton invariant mass $m_{\\ell\\ell}$ [GeV]', # x-axis label\n",
    "               horizontalalignment='right', x=1 )\n",
    "    plt.xlim( left=bins[0], right=bins[-1] ) # no margin on x-axis\n",
    "    plt.gca().xaxis.set_major_locator( MultipleLocator(20) ) # separation of x-axis major ticks\n",
    "    plt.gca().xaxis.set_minor_locator( MultipleLocator(5) ) # separation of x-axis minor ticks\n",
    "    \n",
    "    plt.tick_params(which='both', # ticks on both x and y axes\n",
    "                    direction='in', # Put ticks inside and outside the axes\n",
    "                    top=True, # draw ticks on the top axis\n",
    "                    right=True ) # draw ticks on right axis\n",
    "    \n",
    "    return"
   ]
  },
  {
   "cell_type": "markdown",
   "metadata": {},
   "source": [
    "Call the function to plot the data"
   ]
  },
  {
   "cell_type": "code",
   "execution_count": 11,
   "metadata": {},
   "outputs": [
    {
     "data": {
      "image/png": "[encoded data removed]",
      "text/plain": [
       "<Figure size 432x288 with 1 Axes>"
      ]
     },
     "metadata": {
      "needs_background": "light"
     },
     "output_type": "display_data"
    }
   ],
   "source": [
    "plot_data(data_frame)"
   ]
  },
  {
   "cell_type": "markdown",
   "metadata": {},
   "source": [
    "## Your tasks\n",
    "\n",
    "* Discuss any difference when you increase the fraction [here](#fraction)\n",
    "* Discuss any difference when you use DataMuons rather than DataEgamma [here](#samples)\n",
    "* Discuss any difference when you use DataMuons and DataEgamma [here](#samples)\n",
    "* Discuss any difference when you uncomment the cut on lepton charge in line 10 of '[Changing a cut](#changing_cut)' and line 29 of '[Applying a cut](#applying_cut)'\n",
    "* Discuss any difference when you uncomment the cut on lepton type in line 15 of '[Changing a cut](#changing_cut)' and line 32 of '[Applying a cut](#applying_cut)'\n",
    "* Discuss any difference when you uncomment the cut on lepton pt in line 20 of '[Changing a cut](#changing_cut)' and line 35 of '[Applying a cut](#applying_cut)'"
   ]
  },
  {
   "cell_type": "code",
   "execution_count": null,
   "metadata": {},
   "outputs": [],
   "source": []
  }
 ],
 "metadata": {
  "kernelspec": {
   "display_name": "Python 3",
   "language": "python",
   "name": "python3"
  },
  "language_info": {
   "codemirror_mode": {
    "name": "ipython",
    "version": 3
   },
   "file_extension": ".py",
   "mimetype": "text/x-python",
   "name": "python",
   "nbconvert_exporter": "python",
   "pygments_lexer": "ipython3",
   "version": "3.7.3"
  }
 },
 "nbformat": 4,
 "nbformat_minor": 2
}
