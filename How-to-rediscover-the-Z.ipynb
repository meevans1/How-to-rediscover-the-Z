{
 "cells": [
  {
   "cell_type": "markdown",
   "metadata": {},
   "source": [
    "# How to rediscover the Z boson yourself!\n",
    "This notebook uses ATLAS Open Data http://opendata.atlas.cern to show you the steps to rediscover the Z boson yourself!\n",
    "\n",
    "The idea is that you add extra cuts to increase the ratio of signal ($Z \\rightarrow e^{+}e^{-}$) to background ($Z \\rightarrow \\tau^{+}\\tau^{-}$, $W$, single top, $t\\bar{t}$, dibosons, low-mass Drell-Yan)\n",
    "\n",
    "The datasets used in this notebook have already been filtered to include exactly 2 leptons per event, so that processing is quicker."
   ]
  },
  {
   "cell_type": "markdown",
   "metadata": {},
   "source": [
    "<CENTER><img src=\"Zee_feynman.pdf\" style=\"width:40%\"></CENTER>"
   ]
  },
  {
   "cell_type": "markdown",
   "metadata": {},
   "source": [
    "## First time setup\n",
    "This first cell only needs to be run the first time you open this notebook on your computer. \n",
    "\n",
    "If you close jupyter and re-open on the same computer, you won't need to run this first cell again.\n",
    "\n",
    "If you re-open on binder, you will need to run this cell again.\n",
    "\n",
    "If you run into a problem of \"uproot not being available\", Kernel -> Restart & Run All"
   ]
  },
  {
   "cell_type": "code",
   "execution_count": 11,
   "metadata": {
    "scrolled": true
   },
   "outputs": [
    {
     "name": "stdout",
     "output_type": "stream",
     "text": [
      "\u001b[33mWARNING: Retrying (Retry(total=4, connect=None, read=None, redirect=None, status=None)) after connection broken by 'NewConnectionError('<pip._vendor.urllib3.connection.VerifiedHTTPSConnection object at 0x103235358>: Failed to establish a new connection: [Errno 8] nodename nor servname provided, or not known')': /simple/pip/\u001b[0m\n",
      "\u001b[33mWARNING: Retrying (Retry(total=3, connect=None, read=None, redirect=None, status=None)) after connection broken by 'NewConnectionError('<pip._vendor.urllib3.connection.VerifiedHTTPSConnection object at 0x103235240>: Failed to establish a new connection: [Errno 8] nodename nor servname provided, or not known')': /simple/pip/\u001b[0m\n",
      "\u001b[33mWARNING: Retrying (Retry(total=2, connect=None, read=None, redirect=None, status=None)) after connection broken by 'NewConnectionError('<pip._vendor.urllib3.connection.VerifiedHTTPSConnection object at 0x1032224e0>: Failed to establish a new connection: [Errno 8] nodename nor servname provided, or not known')': /simple/pip/\u001b[0m\n",
      "\u001b[33mWARNING: Retrying (Retry(total=1, connect=None, read=None, redirect=None, status=None)) after connection broken by 'NewConnectionError('<pip._vendor.urllib3.connection.VerifiedHTTPSConnection object at 0x103222e80>: Failed to establish a new connection: [Errno 8] nodename nor servname provided, or not known')': /simple/pip/\u001b[0m\n",
      "\u001b[33mWARNING: Retrying (Retry(total=0, connect=None, read=None, redirect=None, status=None)) after connection broken by 'NewConnectionError('<pip._vendor.urllib3.connection.VerifiedHTTPSConnection object at 0x103222390>: Failed to establish a new connection: [Errno 8] nodename nor servname provided, or not known')': /simple/pip/\u001b[0m\n",
      "Requirement already up-to-date: pip in /Users/meirinevans/.local/lib/python3.7/site-packages (19.3.1)\n",
      "\u001b[33mWARNING: Retrying (Retry(total=4, connect=None, read=None, redirect=None, status=None)) after connection broken by 'NewConnectionError('<pip._vendor.urllib3.connection.VerifiedHTTPSConnection object at 0x1056c0c50>: Failed to establish a new connection: [Errno 8] nodename nor servname provided, or not known')': /simple/numpy/\u001b[0m\n",
      "\u001b[33mWARNING: Retrying (Retry(total=3, connect=None, read=None, redirect=None, status=None)) after connection broken by 'NewConnectionError('<pip._vendor.urllib3.connection.VerifiedHTTPSConnection object at 0x1056c0c88>: Failed to establish a new connection: [Errno 8] nodename nor servname provided, or not known')': /simple/numpy/\u001b[0m\n",
      "\u001b[33mWARNING: Retrying (Retry(total=2, connect=None, read=None, redirect=None, status=None)) after connection broken by 'NewConnectionError('<pip._vendor.urllib3.connection.VerifiedHTTPSConnection object at 0x1056c0fd0>: Failed to establish a new connection: [Errno 8] nodename nor servname provided, or not known')': /simple/numpy/\u001b[0m\n",
      "\u001b[33mWARNING: Retrying (Retry(total=1, connect=None, read=None, redirect=None, status=None)) after connection broken by 'NewConnectionError('<pip._vendor.urllib3.connection.VerifiedHTTPSConnection object at 0x1056bba58>: Failed to establish a new connection: [Errno 8] nodename nor servname provided, or not known')': /simple/numpy/\u001b[0m\n",
      "\u001b[33mWARNING: Retrying (Retry(total=0, connect=None, read=None, redirect=None, status=None)) after connection broken by 'NewConnectionError('<pip._vendor.urllib3.connection.VerifiedHTTPSConnection object at 0x1056bbe80>: Failed to establish a new connection: [Errno 8] nodename nor servname provided, or not known')': /simple/numpy/\u001b[0m\n",
      "Requirement already up-to-date: numpy in /Users/meirinevans/.local/lib/python3.7/site-packages (1.17.4)\n",
      "\u001b[33mWARNING: Retrying (Retry(total=4, connect=None, read=None, redirect=None, status=None)) after connection broken by 'NewConnectionError('<pip._vendor.urllib3.connection.VerifiedHTTPSConnection object at 0x1056d7e80>: Failed to establish a new connection: [Errno 8] nodename nor servname provided, or not known')': /simple/pandas/\u001b[0m\n",
      "\u001b[33mWARNING: Retrying (Retry(total=3, connect=None, read=None, redirect=None, status=None)) after connection broken by 'NewConnectionError('<pip._vendor.urllib3.connection.VerifiedHTTPSConnection object at 0x1056d7da0>: Failed to establish a new connection: [Errno 8] nodename nor servname provided, or not known')': /simple/pandas/\u001b[0m\n",
      "\u001b[33mWARNING: Retrying (Retry(total=2, connect=None, read=None, redirect=None, status=None)) after connection broken by 'NewConnectionError('<pip._vendor.urllib3.connection.VerifiedHTTPSConnection object at 0x1056d7d68>: Failed to establish a new connection: [Errno 8] nodename nor servname provided, or not known')': /simple/pandas/\u001b[0m\n",
      "\u001b[33mWARNING: Retrying (Retry(total=1, connect=None, read=None, redirect=None, status=None)) after connection broken by 'NewConnectionError('<pip._vendor.urllib3.connection.VerifiedHTTPSConnection object at 0x1056d7c88>: Failed to establish a new connection: [Errno 8] nodename nor servname provided, or not known')': /simple/pandas/\u001b[0m\n",
      "\u001b[33mWARNING: Retrying (Retry(total=0, connect=None, read=None, redirect=None, status=None)) after connection broken by 'NewConnectionError('<pip._vendor.urllib3.connection.VerifiedHTTPSConnection object at 0x1056d7c18>: Failed to establish a new connection: [Errno 8] nodename nor servname provided, or not known')': /simple/pandas/\u001b[0m\n",
      "Requirement already up-to-date: pandas in /Users/meirinevans/.local/lib/python3.7/site-packages (0.25.3)\n",
      "\u001b[33mWARNING: Retrying (Retry(total=4, connect=None, read=None, redirect=None, status=None)) after connection broken by 'NewConnectionError('<pip._vendor.urllib3.connection.VerifiedHTTPSConnection object at 0x1056e4ba8>: Failed to establish a new connection: [Errno 8] nodename nor servname provided, or not known')': /simple/uproot/\u001b[0m\n",
      "\u001b[33mWARNING: Retrying (Retry(total=3, connect=None, read=None, redirect=None, status=None)) after connection broken by 'NewConnectionError('<pip._vendor.urllib3.connection.VerifiedHTTPSConnection object at 0x1056e47b8>: Failed to establish a new connection: [Errno 8] nodename nor servname provided, or not known')': /simple/uproot/\u001b[0m\n",
      "\u001b[33mWARNING: Retrying (Retry(total=2, connect=None, read=None, redirect=None, status=None)) after connection broken by 'NewConnectionError('<pip._vendor.urllib3.connection.VerifiedHTTPSConnection object at 0x1056e4a58>: Failed to establish a new connection: [Errno 8] nodename nor servname provided, or not known')': /simple/uproot/\u001b[0m\n",
      "\u001b[33mWARNING: Retrying (Retry(total=1, connect=None, read=None, redirect=None, status=None)) after connection broken by 'NewConnectionError('<pip._vendor.urllib3.connection.VerifiedHTTPSConnection object at 0x1056e4940>: Failed to establish a new connection: [Errno 8] nodename nor servname provided, or not known')': /simple/uproot/\u001b[0m\n",
      "\u001b[33mWARNING: Retrying (Retry(total=0, connect=None, read=None, redirect=None, status=None)) after connection broken by 'NewConnectionError('<pip._vendor.urllib3.connection.VerifiedHTTPSConnection object at 0x1056e4eb8>: Failed to establish a new connection: [Errno 8] nodename nor servname provided, or not known')': /simple/uproot/\u001b[0m\n",
      "Requirement already up-to-date: uproot in /Users/meirinevans/.local/lib/python3.7/site-packages (3.10.12)\n",
      "\u001b[33mWARNING: Retrying (Retry(total=4, connect=None, read=None, redirect=None, status=None)) after connection broken by 'NewConnectionError('<pip._vendor.urllib3.connection.VerifiedHTTPSConnection object at 0x1056d70b8>: Failed to establish a new connection: [Errno 8] nodename nor servname provided, or not known')': /simple/matplotlib/\u001b[0m\n",
      "\u001b[33mWARNING: Retrying (Retry(total=3, connect=None, read=None, redirect=None, status=None)) after connection broken by 'NewConnectionError('<pip._vendor.urllib3.connection.VerifiedHTTPSConnection object at 0x1056d7f28>: Failed to establish a new connection: [Errno 8] nodename nor servname provided, or not known')': /simple/matplotlib/\u001b[0m\n",
      "\u001b[33mWARNING: Retrying (Retry(total=2, connect=None, read=None, redirect=None, status=None)) after connection broken by 'NewConnectionError('<pip._vendor.urllib3.connection.VerifiedHTTPSConnection object at 0x1056d7b38>: Failed to establish a new connection: [Errno 8] nodename nor servname provided, or not known')': /simple/matplotlib/\u001b[0m\n",
      "\u001b[33mWARNING: Retrying (Retry(total=1, connect=None, read=None, redirect=None, status=None)) after connection broken by 'NewConnectionError('<pip._vendor.urllib3.connection.VerifiedHTTPSConnection object at 0x1056d7278>: Failed to establish a new connection: [Errno 8] nodename nor servname provided, or not known')': /simple/matplotlib/\u001b[0m\n"
     ]
    },
    {
     "name": "stdout",
     "output_type": "stream",
     "text": [
      "\u001b[33mWARNING: Retrying (Retry(total=0, connect=None, read=None, redirect=None, status=None)) after connection broken by 'NewConnectionError('<pip._vendor.urllib3.connection.VerifiedHTTPSConnection object at 0x1056d7128>: Failed to establish a new connection: [Errno 8] nodename nor servname provided, or not known')': /simple/matplotlib/\u001b[0m\n",
      "Requirement already up-to-date: matplotlib in /Users/meirinevans/.local/lib/python3.7/site-packages (3.1.2)\n",
      "Requirement already satisfied, skipping upgrade: python-dateutil>=2.6.1 in /Users/meirinevans/anaconda3/lib/python3.7/site-packages (from pandas) (2.8.0)\n",
      "Requirement already satisfied, skipping upgrade: pytz>=2017.2 in /Users/meirinevans/anaconda3/lib/python3.7/site-packages (from pandas) (2018.9)\n",
      "Requirement already satisfied, skipping upgrade: awkward<1.0,>=0.12.0 in /Users/meirinevans/.local/lib/python3.7/site-packages (from uproot) (0.12.2)\n",
      "Requirement already satisfied, skipping upgrade: cachetools in /Users/meirinevans/.local/lib/python3.7/site-packages (from uproot) (3.1.1)\n",
      "Requirement already satisfied, skipping upgrade: uproot-methods>=0.7.0 in /Users/meirinevans/.local/lib/python3.7/site-packages (from uproot) (0.7.0)\n",
      "Requirement already satisfied, skipping upgrade: pyparsing!=2.0.4,!=2.1.2,!=2.1.6,>=2.0.1 in /Users/meirinevans/anaconda3/lib/python3.7/site-packages (from matplotlib) (2.3.1)\n",
      "Requirement already satisfied, skipping upgrade: cycler>=0.10 in /Users/meirinevans/anaconda3/lib/python3.7/site-packages (from matplotlib) (0.10.0)\n",
      "Requirement already satisfied, skipping upgrade: kiwisolver>=1.0.1 in /Users/meirinevans/anaconda3/lib/python3.7/site-packages (from matplotlib) (1.0.1)\n",
      "Requirement already satisfied, skipping upgrade: six>=1.5 in /Users/meirinevans/anaconda3/lib/python3.7/site-packages (from python-dateutil>=2.6.1->pandas) (1.12.0)\n",
      "Requirement already satisfied, skipping upgrade: setuptools in /Users/meirinevans/anaconda3/lib/python3.7/site-packages (from kiwisolver>=1.0.1->matplotlib) (40.8.0)\n"
     ]
    }
   ],
   "source": [
    "import sys\n",
    "!{sys.executable} -m pip install --upgrade --user pip\n",
    "!{sys.executable} -m pip install -U numpy pandas uproot matplotlib --user"
   ]
  },
  {
   "cell_type": "markdown",
   "metadata": {},
   "source": [
    "## To setup everytime\n",
    "Cell -> Run All Below\n",
    "\n",
    "to be done every time you re-open this notebook"
   ]
  },
  {
   "cell_type": "code",
   "execution_count": 12,
   "metadata": {},
   "outputs": [],
   "source": [
    "import uproot\n",
    "import pandas as pd\n",
    "import time\n",
    "import math\n",
    "import numpy as np\n",
    "import matplotlib.pyplot as plt\n",
    "from matplotlib.ticker import MultipleLocator # for minor ticks\n",
    "\n",
    "import infofile"
   ]
  },
  {
   "cell_type": "code",
   "execution_count": 13,
   "metadata": {},
   "outputs": [],
   "source": [
    "lumi = 1000\n",
    "\n",
    "fraction = 0.3\n",
    "                                                                                                                                  \n",
    "tuple_path = \"Input/\"\n",
    "#tuple_path = \"http://opendata.atlas.cern/release/samples/\"\n",
    "\n",
    "stack_order = ['W','top','Diboson','Drell Yan','Z']"
   ]
  },
  {
   "cell_type": "code",
   "execution_count": 14,
   "metadata": {},
   "outputs": [],
   "source": [
    "samples = {\n",
    "\n",
    "    'data': {\n",
    "        'list' : ['DataEgamma']\n",
    "    },\n",
    "\n",
    "    'W' : {\n",
    "        'list' : ['WenuNoJetsBVeto','WenuJetsBVeto','WenuWithB','WmunuNoJetsBVeto','WmunuJetsBVeto','WmunuWithB','WtaunuNoJetsBVeto','WtaunuJetsBVeto','WtaunuWithB'],\n",
    "        'color' : \"#e55934\"\n",
    "    },\n",
    "\n",
    "    'Z' : {\n",
    "        'list' : ['Zee','Ztautau'],\n",
    "        'color' : \"#086788\"\n",
    "    },\n",
    "   \n",
    "    'top' : {\n",
    "        'list' : ['ttbar_lep','ttbar_had','stop_schan','stop_tchan_top','stop_tchan_antitop','stop_wtchan'],\n",
    "        'color' : \"#fde74c\"\n",
    "    },\n",
    "    \n",
    "    'Drell Yan' : {\n",
    "        'list' : ['DYeeM08to15', 'DYeeM15to40', 'DYtautauM08to15', 'DYtautauM15to40'],\n",
    "        'color' : \"#5bc0eb\"\n",
    "    },\n",
    "\n",
    "    'Diboson' : {\n",
    "        'list' : ['WW','WZ','ZZ'],\n",
    "        'color' : \"#fa7921\"\n",
    "    }\n",
    "\n",
    "}"
   ]
  },
  {
   "cell_type": "code",
   "execution_count": 15,
   "metadata": {},
   "outputs": [],
   "source": [
    "def get_data_from_files():\n",
    "\n",
    "    data = {}\n",
    "    \n",
    "    for s in samples:\n",
    "        print(s+':')\n",
    "        frames = []\n",
    "        for val in samples[s]['list']:\n",
    "            prefix = \"MC/exactly2lep.mc_\"\n",
    "            if s == 'data':\n",
    "                prefix = \"Data/exactly2lep.\"\n",
    "            else: prefix += str(infofile.infos[val][\"DSID\"])+\".\"\n",
    "            fileString = tuple_path+prefix+val+\".root\"\n",
    "            if fileString != \"\":\n",
    "                temp = read_file(fileString,val)\n",
    "                frames.append(temp)\n",
    "            else:\n",
    "                print(\"Error: \"+val+\" not found!\")\n",
    "        data[s] = pd.concat(frames)\n",
    "\n",
    "    return data"
   ]
  },
  {
   "cell_type": "code",
   "execution_count": null,
   "metadata": {},
   "outputs": [],
   "source": [
    "def calc_weight(mcWeight,scaleFactor_PILEUP,scaleFactor_ELE,\n",
    "                scaleFactor_MUON, scaleFactor_TRIGGER):\n",
    "    return mcWeight*scaleFactor_PILEUP*scaleFactor_ELE*scaleFactor_MUON*scaleFactor_TRIGGER"
   ]
  },
  {
   "cell_type": "code",
   "execution_count": null,
   "metadata": {},
   "outputs": [],
   "source": [
    "def get_xsec_weight(totalWeight,sample):\n",
    "    info = infofile.infos[sample]\n",
    "    weight = (lumi*info[\"xsec\"])/(info[\"sumw\"]*info[\"red_eff\"])\n",
    "    weight *= totalWeight\n",
    "    return weight"
   ]
  },
  {
   "cell_type": "code",
   "execution_count": null,
   "metadata": {},
   "outputs": [],
   "source": [
    "def calc_mll(lep_pts,lep_etas,lep_phis):\n",
    "    mll = 2*lep_pts[0]*lep_pts[1]\n",
    "    cosh = math.cosh(lep_etas[0]-lep_etas[1])\n",
    "    cos = math.cos(lep_phis[0]-lep_phis[1])\n",
    "    mll *= ( cosh - cos )\n",
    "    return math.sqrt(mll)/1000."
   ]
  },
  {
   "cell_type": "markdown",
   "metadata": {},
   "source": [
    "## Changing an already uncommented cut"
   ]
  },
  {
   "cell_type": "markdown",
   "metadata": {},
   "source": [
    "If you change a cut: Cell -> Run All Below\n",
    "\n",
    "If you uncomment a cut here, you also need to uncomment the corresponding cut in the cell above."
   ]
  },
  {
   "cell_type": "code",
   "execution_count": null,
   "metadata": {},
   "outputs": [],
   "source": [
    "# cut on number of leptons\n",
    "def cut_n_lep(lep_n):\n",
    "    # return when number of leptons is not equal to 2\n",
    "    # exclamation mark (!) means \"not\"\n",
    "    # so != means \"not equal to\"\n",
    "    return lep_n != 2\n",
    "\n",
    "# cut on lepton charge\n",
    "def cut_lep_charge(lep_charge):\n",
    "    # return when sum of lepton charges is not equal to 0\n",
    "    # first lepton is [0], 2nd lepton is [1]\n",
    "    return lep_charge[0] + lep_charge[1] != 0\n",
    "\n",
    "# cut on lepton type\n",
    "def cut_lep_type(lep_type):\n",
    "# for an electron lep_type is 11\n",
    "# for a muon lep_type is 13\n",
    "    return lep_type[0]!=11 or lep_type[1]!=11\n",
    "\n",
    "# cut on lepton pt\n",
    "def cut_lep_pt(lep_pt):\n",
    "# want to throw away events where the leptons have lep_pt[] < 25000 MeV \n",
    "    return (lep_pt[0] < 25000) or (lep_pt[1] < 25000)\n",
    "\n",
    "# cut on invariant mass of Z boson candidate \n",
    "def cut_mll(mll):\n",
    "# want invariant mass of same-type-opposite-charge lepton pair to be in range 66 < m < 116 GeV\n",
    "    return (mll < 71.12) or (mll > 111.12)"
   ]
  },
  {
   "cell_type": "markdown",
   "metadata": {},
   "source": [
    "## Uncommenting a new cut\n",
    "If you add a cut: Cell -> Run All Below"
   ]
  },
  {
   "cell_type": "code",
   "execution_count": null,
   "metadata": {},
   "outputs": [],
   "source": [
    "def read_file(path,sample):\n",
    "    start = time.time()\n",
    "    print(\"\\tProcessing: \"+sample)\n",
    "    data_all = pd.DataFrame()\n",
    "    mc = uproot.open(path)[\"mini\"]\n",
    "    numevents = uproot.numentries(path, \"mini\")\n",
    "    for data in mc.iterate([\"lep_n\",\"lep_pt\",\"lep_eta\",\"lep_phi\",\"lep_charge\",\"lep_type\", # add more variables here if you make cuts on them\n",
    "                         \"mcWeight\",\"scaleFactor_PILEUP\",\"scaleFactor_ELE\",\"scaleFactor_MUON\", \n",
    "                         \"scaleFactor_TRIGGER\"], flatten=False, entrysteps=2500000, outputtype=pd.DataFrame, entrystop=numevents*fraction):\n",
    "\n",
    "        nIn = len(data.index)\n",
    "\n",
    "        if 'Data' not in sample:\n",
    "            data['totalWeight'] = np.vectorize(calc_weight)(data.mcWeight,data.scaleFactor_PILEUP,data.scaleFactor_ELE,data.scaleFactor_MUON,data.scaleFactor_TRIGGER)\n",
    "            data['totalWeight'] = np.vectorize(get_xsec_weight)(data.totalWeight,sample)\n",
    "\n",
    "        data.drop([\"mcWeight\",\"scaleFactor_PILEUP\",\"scaleFactor_ELE\",\"scaleFactor_MUON\",\"scaleFactor_TRIGGER\"], axis=1, inplace=True)\n",
    "\n",
    "        # cut on number of leptons\n",
    "        fail = data[ np.vectorize(cut_n_lep)(data.lep_n) ].index\n",
    "        data.drop(fail, inplace=True)\n",
    "\n",
    "        # dataframe contents can be printed at any stage like this\n",
    "        #print(data)\n",
    "\n",
    "        # dataframe column can be printed at any stage like this\n",
    "        #print(data['lep_charge'])\n",
    "\n",
    "        # dataframe columns can be printed at any stage like this\n",
    "        #print(data[['lep_charge','lep_type']])\n",
    "\n",
    "        # cut on lepton charge\n",
    "        #fail = data[ np.vectorize(cut_lep_charge)(data.lep_charge) ].index\n",
    "        #data.drop(fail, inplace=True)\n",
    "\n",
    "        # cut on lepton type\n",
    "        fail = data[ np.vectorize(cut_lep_type)(data.lep_type) ].index\n",
    "        data.drop(fail, inplace=True)\n",
    "\n",
    "        # cut on lepton pt\n",
    "        #fail = data[ np.vectorize(cut_lep_pt)(data.lep_pt) ].index\n",
    "        #data.drop(fail, inplace=True)\n",
    "\n",
    "        # calculation of 2-lepton invariant mass\n",
    "        data['mll'] = np.vectorize(calc_mll)(data.lep_pt,data.lep_eta,data.lep_phi)\n",
    "\n",
    "        # cut on mll\n",
    "        #fail = data[ np.vectorize(cut_mll)(data.mll) ].index\n",
    "        #data.drop(fail, inplace=True)\n",
    "\n",
    "        nOut = len(data.index)\n",
    "        data_all = data_all.append(data)\n",
    "        elapsed = time.time() - start\n",
    "        print(\"\\t\\tTime taken: \"+str(elapsed)+\", nIn: \"+str(nIn)+\", nOut: \"+str(nOut))\n",
    "\n",
    "    return data_all"
   ]
  },
  {
   "cell_type": "code",
   "execution_count": null,
   "metadata": {},
   "outputs": [],
   "source": [
    "def plot_data(data):\n",
    "    \n",
    "    bin_width = 5\n",
    "    num_bins = 24\n",
    "    xrange_min = 0\n",
    "    bins = [xrange_min + x*bin_width for x in range(num_bins+1) ]\n",
    "    data_x = [xrange_min+bin_width/2 + x*bin_width for x in range(num_bins) ]\n",
    "    \n",
    "    data_mll,_ = np.histogram(data['data'].mll.values, bins=bins)\n",
    "    data_mll_errors = np.sqrt(data_mll)\n",
    "    \n",
    "    mc_mll = []\n",
    "    mc_weights = []\n",
    "    mc_colors = []\n",
    "    mc_labels = []\n",
    "    mc_mll_tot = np.zeros(len(data_x))\n",
    "\n",
    "    for s in stack_order:\n",
    "        mc_labels.append(s)\n",
    "        mc_mll.append(data[s].mll.values)\n",
    "        mc_colors.append(samples[s]['color'])\n",
    "        mc_weights.append(data[s].totalWeight.values)\n",
    "        mc_mll_heights,_ = np.histogram(data[s].mll.values,bins=bins,weights=data[s].totalWeight.values)\n",
    "        mc_mll_tot = np.add(mc_mll_tot, mc_mll_heights)\n",
    "\n",
    "    top = np.amax(data_mll)*1.2\n",
    "    \n",
    "    mc_mll_err = np.sqrt(mc_mll_tot)\n",
    "    \n",
    "    plt.axes([0.1,0.3,0.85,0.65]) #(left, bottom, width, height)\n",
    "    main_axes = plt.gca()\n",
    "    main_axes.errorbar( x=data_x, y=data_mll, yerr=data_mll_errors, fmt='ko', label='Data')\n",
    "    main_axes.hist(mc_mll,bins=bins,weights=mc_weights,stacked=True,color=mc_colors, label=mc_labels)\n",
    "    main_axes.bar(data_x,2*mc_mll_err,bottom=mc_mll_tot-mc_mll_err,alpha=0.5,color='none',hatch=\"////\",width=bin_width,label='Stat. Unc.')\n",
    "    \n",
    "    # Create new legend handles but use the colors from the existing ones \n",
    "    handles, labels = main_axes.get_legend_handles_labels()\n",
    "    \n",
    "    # specify order within legend\n",
    "    handles = [handles[labels.index('Data')],handles[labels.index('W')],handles[labels.index('top')],\n",
    "               handles[labels.index('Diboson')],handles[labels.index('Drell Yan')],handles[labels.index('Z')],\n",
    "               handles[labels.index('Stat. Unc.')]]\n",
    "    \n",
    "    labels = ['Data','W','top','Diboson','Drell Yan','Z','Stat. Unc.']\n",
    "\n",
    "    main_axes.set_ylim(top=top)\n",
    "    main_axes.set_xlim(left=xrange_min,right=bins[-1])\n",
    "    main_axes.xaxis.set_minor_locator(MultipleLocator(5))\n",
    "    main_axes.tick_params(which='both',direction='in',top=True,labeltop=False,labelbottom=False,right=True,labelright=False)\n",
    "        \n",
    "    main_axes.set_ylabel(r'Events / '+str(bin_width)+r' GeV',fontname='sans-serif',horizontalalignment='right',y=1.0,fontsize=11)\n",
    "    \n",
    "    lumi_used = str(lumi*fraction/1000)\n",
    "    plt.text(0.05,0.97,r'$\\mathbf{{ATLAS}}$ Open Data',ha=\"left\",va=\"top\",family='sans-serif',transform=main_axes.transAxes,fontsize=13)\n",
    "    plt.text(0.05,0.90,'for education only',ha=\"left\",va=\"top\",family='sans-serif',transform=main_axes.transAxes,style='italic',fontsize=8)\n",
    "    plt.text(0.05,0.86,r'$\\sqrt{s}=8\\,\\mathrm{TeV},\\;\\int L\\,dt=$'+lumi_used+'$\\,\\mathrm{fb}^{-1}$',ha=\"left\",va=\"top\",family='sans-serif',transform=main_axes.transAxes)\n",
    "    plt.text(0.05,0.79,r'$Z \\rightarrow e^+e^-$',ha=\"left\",va=\"top\",family='sans-serif',transform=main_axes.transAxes)\n",
    "\n",
    "    main_axes.legend(handles=handles, labels=labels, frameon=False, loc=(0.05,0.1))\n",
    "    \n",
    "    \n",
    "    # Data/MC ratio \n",
    "    plt.axes([0.1,0.1,0.85,0.2])\n",
    "    ratio_axes = plt.gca()\n",
    "    ratio_axes.errorbar( x=data_x, y=data_mll/mc_mll_tot, yerr=data_mll_errors/mc_mll_tot, fmt='ko', label='Data')\n",
    "    ratio_axes.bar(data_x,2*mc_mll_err/mc_mll_tot,bottom=1-mc_mll_err/mc_mll_tot,alpha=0.5,color='none',\n",
    "            hatch=\"////\",width=bin_width)\n",
    "    ratio_axes.plot(bins,np.ones(len(bins)),color='k')\n",
    "    ratio_axes.set_ylim(bottom=0,top=2.5)\n",
    "    ratio_axes.set_xlim(left=xrange_min,right=bins[-1])\n",
    "    ratio_axes.set_yticks([0,1,2])\n",
    "    ratio_axes.yaxis.set_minor_locator(MultipleLocator(0.2))\n",
    "    ratio_axes.xaxis.set_minor_locator(MultipleLocator(5))\n",
    "    ratio_axes.set_ylabel(r'Data/MC',fontname='sans-serif',fontsize=11)\n",
    "    ratio_axes.set_xlabel(r'$\\mathrm{m_{ee}}$ [GeV]',fontname='sans-serif',horizontalalignment='right',x=1.0,fontsize=11)\n",
    "    ratio_axes.yaxis.set_label_coords(-0.09,0.5)\n",
    "    ratio_axes.tick_params(which='both',direction='in',top=True,labeltop=False,right=True,labelright=False)\n",
    "    \n",
    "    #plt.savefig(\"plot.pdf\")\n",
    "\n",
    "    return"
   ]
  },
  {
   "cell_type": "code",
   "execution_count": null,
   "metadata": {
    "scrolled": false
   },
   "outputs": [
    {
     "name": "stdout",
     "output_type": "stream",
     "text": [
      "data:\n",
      "\tProcessing: DataEgamma\n"
     ]
    }
   ],
   "source": [
    "if __name__==\"__main__\":\n",
    "    start = time.time()\n",
    "    data = get_data_from_files()    \n",
    "    plot_data(data)\n",
    "    elapsed = time.time() - start\n",
    "    print(\"Time taken: \"+str(elapsed))"
   ]
  },
  {
   "cell_type": "code",
   "execution_count": null,
   "metadata": {},
   "outputs": [],
   "source": []
  }
 ],
 "metadata": {
  "kernelspec": {
   "display_name": "Python 3",
   "language": "python",
   "name": "python3"
  },
  "language_info": {
   "codemirror_mode": {
    "name": "ipython",
    "version": 3
   },
   "file_extension": ".py",
   "mimetype": "text/x-python",
   "name": "python",
   "nbconvert_exporter": "python",
   "pygments_lexer": "ipython3",
   "version": "3.7.3"
  }
 },
 "nbformat": 4,
 "nbformat_minor": 2
}
