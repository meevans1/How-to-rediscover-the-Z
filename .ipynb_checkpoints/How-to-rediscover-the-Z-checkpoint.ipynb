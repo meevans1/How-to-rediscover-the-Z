{
 "cells": [
  {
   "cell_type": "markdown",
   "metadata": {},
   "source": [
    "# How to rediscover the Z boson yourself!\n",
    "This notebook uses ATLAS Open Data http://opendata.atlas.cern to show you the steps to rediscover the Z boson yourself!\n",
    "\n",
    "The idea is that you add extra cuts to increase the ratio of signal ($Z \\rightarrow e^{+}e^{-}$) to background ($Z \\rightarrow \\tau^{+}\\tau^{-}$, $W$, single top, $t\\bar{t}$, dibosons, low-mass Drell-Yan)\n",
    "\n",
    "The datasets used in this notebook have already been filtered to include exactly 2 leptons per event, so that processing is quicker."
   ]
  },
  {
   "cell_type": "markdown",
   "metadata": {},
   "source": [
    "<CENTER><img src=\"Zee_feynman.pdf\" style=\"width:40%\"></CENTER>"
   ]
  },
  {
   "cell_type": "markdown",
   "metadata": {},
   "source": [
    "## First time setup\n",
    "This first cell only needs to be run the first time you open this notebook on your computer. \n",
    "\n",
    "If you close jupyter and re-open on the same computer, you won't need to run this first cell again.\n",
    "\n",
    "If you re-open on binder, you will need to run this cell again.\n",
    "\n",
    "If you run into a problem of \"uproot not being available\", Kernel -> Restart & Run All"
   ]
  },
  {
   "cell_type": "code",
   "execution_count": null,
   "metadata": {},
   "outputs": [],
   "source": [
    "import sys\n",
    "!{sys.executable} -m pip install --upgrade --user pip\n",
    "!{sys.executable} -m pip install -U numpy pandas uproot matplotlib --user"
   ]
  },
  {
   "cell_type": "markdown",
   "metadata": {},
   "source": [
    "## To setup everytime\n",
    "Cell -> Run All Below\n",
    "\n",
    "to be done every time you re-open this notebook"
   ]
  },
  {
   "cell_type": "code",
   "execution_count": 1,
   "metadata": {},
   "outputs": [],
   "source": [
    "import uproot\n",
    "import pandas as pd\n",
    "import time\n",
    "import math\n",
    "import numpy as np\n",
    "import matplotlib.pyplot as plt\n",
    "\n",
    "import infofile"
   ]
  },
  {
   "cell_type": "code",
   "execution_count": 2,
   "metadata": {},
   "outputs": [],
   "source": [
    "lumi = 1000\n",
    "                                                                                                                                  \n",
    "tuple_path = \"Input/\"\n",
    "\n",
    "stack_order = ['W','single top',r'$t\\bar{t}$','Diboson','Drell Yan','Z']"
   ]
  },
  {
   "cell_type": "code",
   "execution_count": 3,
   "metadata": {},
   "outputs": [],
   "source": [
    "samples = {\n",
    "\n",
    "    'data': {\n",
    "        'list' : ['DataEgamma']\n",
    "    },\n",
    "\n",
    "    'W' : {\n",
    "        'list' : ['WenuNoJetsBVeto','WenuJetsBVeto','WenuWithB','WmunuNoJetsBVeto','WmunuJetsBVeto','WtaunuNoJetsBVeto','WtaunuJetsBVeto','WtaunuWithB'],\n",
    "        'color' : \"#e55934\"\n",
    "    },\n",
    "\n",
    "    'Z' : {\n",
    "        'list' : ['Zee','Ztautau'],\n",
    "        'color' : \"#086788\"\n",
    "    },\n",
    "    \n",
    "    r'$t\\bar{t}$' : {\n",
    "        'list' : ['ttbar_lep','ttbar_had'],\n",
    "        'color' : \"#9bc53d\"\n",
    "    },\n",
    "\n",
    "    'single top' : {\n",
    "        'list' : ['stop_schan','stop_tchan_top','stop_tchan_antitop','stop_wtchan'],\n",
    "        'color' : \"#fde74c\"\n",
    "    },\n",
    "    \n",
    "    'Drell Yan' : {\n",
    "        'list' : ['DYeeM08to15', 'DYeeM15to40', 'DYtautauM08to15', 'DYtautauM15to40'],\n",
    "        'color' : \"#5bc0eb\"\n",
    "    },\n",
    "\n",
    "    'Diboson' : {\n",
    "        'list' : ['WW','WZ','ZZ'],\n",
    "        'color' : \"#fa7921\"\n",
    "    }\n",
    "\n",
    "}"
   ]
  },
  {
   "cell_type": "code",
   "execution_count": 4,
   "metadata": {},
   "outputs": [],
   "source": [
    "def get_data_from_files():\n",
    "\n",
    "    data = {}\n",
    "    \n",
    "    for s in samples:\n",
    "        print(s+':')\n",
    "        frames = []\n",
    "        for val in samples[s]['list']:\n",
    "            prefix = \"exactly2lep.mc_\"\n",
    "            if s == 'data':\n",
    "                prefix = \"exactly2lep.\"\n",
    "            else: prefix += str(infofile.infos[val][\"DSID\"])+\".\"\n",
    "            fileString = tuple_path+prefix+val+\".root\"\n",
    "            if fileString != \"\":\n",
    "                temp = read_file(fileString,val)\n",
    "                frames.append(temp)\n",
    "            else:\n",
    "                print(\"Error: \"+val+\" not found!\")\n",
    "        data[s] = pd.concat(frames)\n",
    "\n",
    "    return data"
   ]
  },
  {
   "cell_type": "code",
   "execution_count": 5,
   "metadata": {},
   "outputs": [],
   "source": [
    "def calc_weight(mcWeight,scaleFactor_PILEUP,scaleFactor_ELE,\n",
    "                scaleFactor_MUON, scaleFactor_TRIGGER):\n",
    "    return mcWeight*scaleFactor_PILEUP*scaleFactor_ELE*scaleFactor_MUON*scaleFactor_TRIGGER"
   ]
  },
  {
   "cell_type": "code",
   "execution_count": 6,
   "metadata": {},
   "outputs": [],
   "source": [
    "def get_xsec_weight(totalWeight,sample):\n",
    "    info = infofile.infos[sample]\n",
    "    weight = (lumi*info[\"xsec\"])/(info[\"sumw\"]*info[\"red_eff\"])\n",
    "    weight *= totalWeight\n",
    "    return weight"
   ]
  },
  {
   "cell_type": "code",
   "execution_count": 12,
   "metadata": {},
   "outputs": [],
   "source": [
    "def plot_data(data):\n",
    "\n",
    "    num_bins = 24\n",
    "    bins = [0 + x*5 for x in range(num_bins+1) ]\n",
    "    data_x = [2.5 + x*5 for x in range(num_bins) ]\n",
    "\n",
    "    mc_mll = []\n",
    "    mc_weights = []\n",
    "    mc_colors = []\n",
    "    mc_labels = []\n",
    "    \n",
    "    data_mll,_ = np.histogram(data['data'].mll.values, bins=bins)\n",
    "    data_mll_errors = np.sqrt(data_mll)\n",
    "\n",
    "    for s in stack_order:\n",
    "        mc_labels.append(s)\n",
    "        mc_mll.append(data[s].mll.values)\n",
    "        mc_colors.append(samples[s]['color'])\n",
    "        mc_weights.append(data[s].totalWeight.values)\n",
    "\n",
    "    top = np.amax(data_mll)*1.1\n",
    "    \n",
    "    plt.hist(mc_mll,bins=bins,weights=mc_weights,stacked=True,color=mc_colors, label=mc_labels)\n",
    "    plt.errorbar( x=data_x, y=data_mll, yerr=data_mll_errors, fmt='ko', label='Data')\n",
    "\n",
    "    plt.xlabel(r'$M_{\\ell\\ell}$ [GeV]',fontname='sans-serif',horizontalalignment='right',x=1.0,fontsize=11)\n",
    "\n",
    "    plt.ylabel(r'Events',fontname='sans-serif',horizontalalignment='right',y=1.0,fontsize=11)                                                                                                                                                                     \n",
    "    plt.ylim(bottom=0,top=top)\n",
    "\n",
    "    ax = plt.gca()\n",
    "    plt.text(0.05,0.97,r'$\\mathbf{{ATLAS}}$ Open Data',ha=\"left\",va=\"top\",family='sans-serif',transform=ax.transAxes,fontsize=13)\n",
    "    plt.text(0.05,0.90,'for education only',ha=\"left\",va=\"top\",family='sans-serif',transform=ax.transAxes,style='italic',fontsize=8)\n",
    "    lumi_used = str(lumi/1000)\n",
    "    plt.text(0.05,0.86,r'$\\sqrt{s}=8\\,\\mathrm{TeV},\\;\\int L\\,dt=$'+lumi_used+r'$\\,\\mathrm{fb}^{-1}$',ha=\"left\",va=\"top\",family='sans-serif',transform=ax.transAxes)\n",
    "\n",
    "    plt.legend(loc='center left')\n",
    "\n",
    "    plt.savefig(\"plot.pdf\")\n",
    "\n",
    "    return"
   ]
  },
  {
   "cell_type": "code",
   "execution_count": 13,
   "metadata": {},
   "outputs": [],
   "source": [
    "def calc_mll(lep_pts,lep_etas,lep_phis):\n",
    "    mll = 2*lep_pts[0]*lep_pts[1]\n",
    "    cosh = math.cosh(lep_etas[0]-lep_etas[1])\n",
    "    cos = math.cos(lep_phis[0]-lep_phis[1])\n",
    "    mll *= ( cosh - cos )\n",
    "    return math.sqrt(mll)/1000."
   ]
  },
  {
   "cell_type": "markdown",
   "metadata": {},
   "source": [
    "## Uncommenting a new cut\n",
    "If you add a cut: Cell -> Run All Below"
   ]
  },
  {
   "cell_type": "code",
   "execution_count": 14,
   "metadata": {},
   "outputs": [],
   "source": [
    "def read_file(path,sample):\n",
    "    start = time.time()\n",
    "    print(\"\\tProcessing: \"+sample)\n",
    "    mc = uproot.open(path)[\"mini\"]\n",
    "    data = mc.pandas.df([\"lep_n\",\"lep_pt\",\"lep_eta\",\"lep_phi\",\"lep_charge\",\"lep_type\", # add more variables here if you make cuts on them\n",
    "                         \"mcWeight\",\"scaleFactor_PILEUP\",\"scaleFactor_ELE\",\"scaleFactor_MUON\", \n",
    "                         \"scaleFactor_TRIGGER\"], flatten=False)\n",
    "\n",
    "    nIn = len(data.index)\n",
    "\n",
    "    if 'Data' not in sample:\n",
    "        data['totalWeight'] = np.vectorize(calc_weight)(data.mcWeight,data.scaleFactor_PILEUP,data.scaleFactor_ELE,data.scaleFactor_MUON,data.scaleFactor_TRIGGER)\n",
    "        data['totalWeight'] = np.vectorize(get_xsec_weight)(data.totalWeight,sample)\n",
    "\n",
    "    data.drop([\"mcWeight\",\"scaleFactor_PILEUP\",\"scaleFactor_ELE\",\"scaleFactor_MUON\",\"scaleFactor_TRIGGER\"], axis=1, inplace=True)\n",
    "    \n",
    "    # cut on number of leptons\n",
    "    fail = data[ np.vectorize(cut_n_lep)(data.lep_n) ].index\n",
    "    data.drop(fail, inplace=True)\n",
    "    \n",
    "    # dataframe contents can be printed at any stage like this\n",
    "    #print(data)\n",
    "    \n",
    "    # dataframe column can be printed at any stage like this\n",
    "    #print(data['lep_charge'])\n",
    "    \n",
    "    # dataframe columns can be printed at any stage like this\n",
    "    #print(data[['lep_charge','lep_type']])\n",
    "\n",
    "    # cut on lepton charge\n",
    "    fail = data[ np.vectorize(cut_lep_charge)(data.lep_charge) ].index\n",
    "    data.drop(fail, inplace=True)\n",
    "    \n",
    "    # cut on lepton type\n",
    "    fail = data[ np.vectorize(cut_lep_type)(data.lep_type) ].index\n",
    "    data.drop(fail, inplace=True)\n",
    "    \n",
    "    # cut on lepton pt\n",
    "    fail = data[ np.vectorize(cut_lep_pt)(data.lep_pt) ].index\n",
    "    data.drop(fail, inplace=True)\n",
    "    \n",
    "    # calculation of 2-lepton invariant mass\n",
    "    data['mll'] = np.vectorize(calc_mll)(data.lep_pt,data.lep_eta,data.lep_phi)\n",
    "    \n",
    "    # cut on mll\n",
    "    fail = data[ np.vectorize(cut_mll)(data.mll) ].index\n",
    "    data.drop(fail, inplace=True)\n",
    "\n",
    "    nOut = len(data.index)\n",
    "\n",
    "    elapsed = time.time() - start\n",
    "    print(\"\\t\\tTime taken: \"+str(elapsed)+\", nIn: \"+str(nIn)+\", nOut: \"+str(nOut))\n",
    "    \n",
    "    return data"
   ]
  },
  {
   "cell_type": "markdown",
   "metadata": {},
   "source": [
    "## Changing an already uncommented cut"
   ]
  },
  {
   "cell_type": "markdown",
   "metadata": {},
   "source": [
    "If you change a cut: Cell -> Run All Below\n",
    "\n",
    "If you uncomment a cut here, you also need to uncomment the corresponding cut in the cell above."
   ]
  },
  {
   "cell_type": "code",
   "execution_count": 15,
   "metadata": {},
   "outputs": [],
   "source": [
    "# cut on number of leptons\n",
    "def cut_n_lep(lep_n):\n",
    "    # return when number of leptons is not equal to 2\n",
    "    # exclamation mark (!) means \"not\"\n",
    "    # so != means \"not equal to\"\n",
    "    return lep_n != 2\n",
    "\n",
    "# cut on lepton charge\n",
    "def cut_lep_charge(lep_charge):\n",
    "    # return when sum of lepton charges is not equal to 0\n",
    "    # first lepton is [0], 2nd lepton is [1]\n",
    "    return lep_charge[0] + lep_charge[1] != 0\n",
    "\n",
    "# cut on lepton type\n",
    "def cut_lep_type(lep_type):\n",
    "# for an electron lep_type is 11\n",
    "# for a muon lep_type is 13\n",
    "    return lep_type[0]!=11 or lep_type[1]!=11\n",
    "\n",
    "# cut on lepton pt\n",
    "def cut_lep_pt(lep_pt):\n",
    "# want to throw away events where the leptons have lep_pt[] < 25000 MeV \n",
    "    return (lep_pt[0] < 25000) or (lep_pt[1] < 25000)\n",
    "\n",
    "# cut on invariant mass of Z boson candidate \n",
    "def cut_mll(mll):\n",
    "# want invariant mass of same-type-opposite-charge lepton pair to be in range 66 < m < 116 GeV\n",
    "    return (mll < 71.12) or (mll > 111.12)"
   ]
  },
  {
   "cell_type": "code",
   "execution_count": 16,
   "metadata": {
    "scrolled": true
   },
   "outputs": [
    {
     "name": "stdout",
     "output_type": "stream",
     "text": [
      "data:\n",
      "\tProcessing: DataEgamma\n",
      "\t\tTime taken: 11.512572050094604, nIn: 429385, nOut: 244141\n",
      "W:\n",
      "\tProcessing: WenuNoJetsBVeto\n",
      "\t\tTime taken: 1.0611603260040283, nIn: 35248, nOut: 111\n",
      "\tProcessing: WenuJetsBVeto\n",
      "\t\tTime taken: 1.13749361038208, nIn: 42260, nOut: 125\n",
      "\tProcessing: WenuWithB\n",
      "\t\tTime taken: 1.2010040283203125, nIn: 45639, nOut: 70\n",
      "\tProcessing: WmunuNoJetsBVeto\n",
      "\t\tTime taken: 0.9637141227722168, nIn: 38875, nOut: 2\n",
      "\tProcessing: WmunuJetsBVeto\n",
      "\t\tTime taken: 1.1682190895080566, nIn: 46877, nOut: 0\n",
      "\tProcessing: WtaunuNoJetsBVeto\n",
      "\t\tTime taken: 0.17822909355163574, nIn: 2985, nOut: 2\n",
      "\tProcessing: WtaunuJetsBVeto\n",
      "\t\tTime taken: 0.19532203674316406, nIn: 4170, nOut: 8\n",
      "\tProcessing: WtaunuWithB\n",
      "\t\tTime taken: 0.2563350200653076, nIn: 6591, nOut: 12\n",
      "Z:\n",
      "\tProcessing: Zee\n",
      "\t\tTime taken: 11.828628063201904, nIn: 395755, nOut: 289950\n",
      "\tProcessing: Ztautau\n",
      "\t\tTime taken: 3.1364479064941406, nIn: 140603, nOut: 918\n",
      "$t\\bar{t}$:\n",
      "\tProcessing: ttbar_lep\n",
      "\t\tTime taken: 7.036700963973999, nIn: 301268, nOut: 8315\n",
      "\tProcessing: ttbar_had\n",
      "\t\tTime taken: 0.1857309341430664, nIn: 2063, nOut: 8\n",
      "single top:\n",
      "\tProcessing: stop_schan\n",
      "\t\tTime taken: 0.42696118354797363, nIn: 7351, nOut: 37\n",
      "\tProcessing: stop_tchan_top\n",
      "\t\tTime taken: 0.5058102607727051, nIn: 10286, nOut: 85\n",
      "\tProcessing: stop_tchan_antitop\n",
      "\t\tTime taken: 0.29369401931762695, nIn: 6882, nOut: 49\n",
      "\tProcessing: stop_wtchan\n",
      "\t\tTime taken: 0.9801158905029297, nIn: 28889, nOut: 886\n",
      "Drell Yan:\n",
      "\tProcessing: DYeeM08to15\n",
      "\t\tTime taken: 6.509462833404541, nIn: 234063, nOut: 5\n",
      "\tProcessing: DYeeM15to40\n",
      "\t\tTime taken: 11.098708152770996, nIn: 421194, nOut: 7\n",
      "\tProcessing: DYtautauM08to15\n",
      "\t\tTime taken: 0.11241793632507324, nIn: 1113, nOut: 0\n",
      "\tProcessing: DYtautauM15to40\n",
      "\t\tTime taken: 0.17023301124572754, nIn: 3778, nOut: 1\n",
      "Diboson:\n",
      "\tProcessing: WW\n",
      "\t\tTime taken: 1.689323902130127, nIn: 67665, nOut: 2622\n",
      "\tProcessing: WZ\n",
      "\t\tTime taken: 2.9165728092193604, nIn: 113585, nOut: 25637\n",
      "\tProcessing: ZZ\n",
      "\t\tTime taken: 1.897292137145996, nIn: 73169, nOut: 20359\n",
      "Time taken: 68.14378380775452\n"
     ]
    },
    {
     "data": {
      "image/png": "[encoded data removed]",
      "text/plain": [
       "<Figure size 432x288 with 1 Axes>"
      ]
     },
     "metadata": {
      "needs_background": "light"
     },
     "output_type": "display_data"
    }
   ],
   "source": [
    "if __name__==\"__main__\":\n",
    "    start = time.time()\n",
    "    \n",
    "    data = get_data_from_files()\n",
    "    \n",
    "    plot_data(data)\n",
    "    elapsed = time.time() - start\n",
    "    print(\"Time taken: \"+str(elapsed))"
   ]
  }
 ],
 "metadata": {
  "kernelspec": {
   "display_name": "Python 3",
   "language": "python",
   "name": "python3"
  },
  "language_info": {
   "codemirror_mode": {
    "name": "ipython",
    "version": 3
   },
   "file_extension": ".py",
   "mimetype": "text/x-python",
   "name": "python",
   "nbconvert_exporter": "python",
   "pygments_lexer": "ipython3",
   "version": "3.7.3"
  }
 },
 "nbformat": 4,
 "nbformat_minor": 2
}
